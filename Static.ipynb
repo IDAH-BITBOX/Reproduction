{
 "cells": [
  {
   "cell_type": "markdown",
   "metadata": {},
   "source": [
    "## Static Network"
   ]
  },
  {
   "cell_type": "markdown",
   "metadata": {},
   "source": [
    "### Import Modules"
   ]
  },
  {
   "cell_type": "code",
   "execution_count": 1,
   "metadata": {},
   "outputs": [],
   "source": [
    "import random\n",
    "from tqdm import tqdm\n",
    "import numpy as np\n",
    "import pandas as pd\n",
    "import matplotlib.pyplot as plt\n",
    "import seaborn as sns\n",
    "from scipy.optimize import curve_fit\n",
    "from scipy.special import factorial\n",
    "from scipy.stats import poisson\n",
    "from scipy.optimize import minimize\n",
    "from scipy import stats\n",
    "from collections import deque\n",
    "import networkx as nx\n",
    "import math as m"
   ]
  },
  {
   "cell_type": "markdown",
   "metadata": {},
   "source": [
    "### Network Initialize"
   ]
  },
  {
   "cell_type": "code",
   "execution_count": 29,
   "metadata": {},
   "outputs": [
    {
     "name": "stdout",
     "output_type": "stream",
     "text": [
      "Target Mean Degree : 100\n",
      "Degree Exponent(gamma) : 5\n"
     ]
    }
   ],
   "source": [
    "size_list = [1000, 5000, 10000, 50000, 100000]\n",
    "mean_degree = int(input(\"Target Mean Degree : \").strip())\n",
    "gamma = float(input(\"Degree Exponent(gamma) : \").strip())"
   ]
  },
  {
   "cell_type": "markdown",
   "metadata": {},
   "source": [
    "## Static Network Class"
   ]
  },
  {
   "cell_type": "code",
   "execution_count": 30,
   "metadata": {},
   "outputs": [],
   "source": [
    "class STATIC:\n",
    "    def __init__(self, mean_degree, gamma, size_list=[]):\n",
    "        self.gamma = gamma\n",
    "        self.mean_degree = mean_degree\n",
    "        self.size_list = size_list\n",
    "        self.degree = dict()\n",
    "        self.adjacent = dict()\n",
    "        self.num_of_links = dict()\n",
    "        self.weight = dict()\n",
    "        \n",
    "        for size in self.size_list:\n",
    "            self.degree[size]=dict()\n",
    "            self.adjacent[size]=dict()\n",
    "            self.num_of_links[size] = 0\n",
    "            self.weight[size] = []\n",
    "            \n",
    "        self.largest_cluster = []\n",
    "        \n",
    "    @staticmethod\n",
    "    def power_law(x, a, b):\n",
    "        return b * np.power(x, a)\n",
    "    \n",
    "    @staticmethod\n",
    "    def log_binning(data, start, length):\n",
    "        maxbin = m.ceil(np.log10(max(data)))\n",
    "        hist, bins = np.histogram(data, bins=np.logspace(start, maxbin, num=length, endpoint=True, base=10.0))\n",
    "        bin_centers = (bins[1:] + bins[:-1]) * 0.5\n",
    "        delt = bins[1:] - bins[:-1]\n",
    "        # print(maxbin, delt, sum(hist))\n",
    "        hist = hist / delt / sum(hist)\n",
    "        return bin_centers, hist\n",
    "    \n",
    "    def generate(self):\n",
    "        ## Generate Weight ##\n",
    "        alpha = 1.0 / (self.gamma - 1.0)\n",
    "        self.weight = [pow(i + 1, -alpha) for i in range(self.size)]\n",
    "        prob = np.array(list(self.weight)) / sum(list(self.weight))\n",
    "        nodes = [i for i in range(self.size)]\n",
    "        for node in range(self.size):\n",
    "            self.degree[node] = 0\n",
    "            self.adjacent[node] = []\n",
    "        \n",
    "        ## Generate Static ##\n",
    "        for self.num_of_links in tqdm(range(int(self.size * self.mean_degree / 2.0))):       \n",
    "            node1, node2 = np.random.choice(nodes, 2, p=prob)\n",
    "            link_check = 0\n",
    "            for i in range(self.degree[node1]):\n",
    "                if self.adjacent[node1][i] == node2:\n",
    "                    link_check = 1\n",
    "                    break\n",
    "            \n",
    "            if link_check == 0:\n",
    "                self.degree[node1] += 1\n",
    "                self.degree[node2] += 1\n",
    "\n",
    "                if node1 in self.adjacent.keys():\n",
    "                    self.adjacent[node1].append(node2)\n",
    "                else:\n",
    "                    self.adjacent[node1] = [node2]\n",
    "                \n",
    "                if node2 in self.adjacent.keys():\n",
    "                    self.adjacent[node2].append(node1)\n",
    "                else:\n",
    "                    self.adjacent[node2] = [node1]\n",
    "                    \n",
    "                self.num_of_links += 1\n",
    "                \n",
    "    def fast_generate(self):\n",
    "        for size in self.size_list:\n",
    "            alpha = 1.0 / (self.gamma - 1.0)\n",
    "            self.weight[size] = [pow(i + 1, -alpha) for i in range(size)]\n",
    "            prob = np.array(list(self.weight[size])) / sum(list(self.weight[size]))\n",
    "            nodes = [i for i in range(size)]\n",
    "\n",
    "            link_max = int(size * self.mean_degree / 2.0)\n",
    "            samples = np.random.choice(nodes, p=prob, size=link_max*4).reshape(-1, 2)\n",
    "            print(samples.shape, link_max)\n",
    "            idx_filter = (samples[:, 0] - samples[:, 1]).astype(bool)\n",
    "            samples = samples[idx_filter][:link_max]\n",
    "            print(samples.shape, link_max)\n",
    "            samples = np.unique(samples, axis=0)\n",
    "            print(samples.shape)\n",
    "\n",
    "            for node in range(size):\n",
    "                self.adjacent[size][node] = []\n",
    "                self.degree[size][node] = 0\n",
    "\n",
    "            for node1, node2 in tqdm(samples):\n",
    "                if node2 not in self.adjacent[size][node1]:\n",
    "                    self.degree[size][node1] += 1\n",
    "                    self.adjacent[size][node1].append(node2)\n",
    "                \n",
    "    def plot_degree_dist(self):\n",
    "        dat = sorted(self.degree.values(), reverse=False)\n",
    "        plt.figure(figsize=(10, 6))\n",
    "        sns.countplot(dat)\n",
    "        plt.show()\n",
    "    \n",
    "    def loglog_plot(self, cutoff):\n",
    "        fig = plt.figure(figsize=(10, 8), facecolor=(0.9, 0.9, 0.9))\n",
    "        plt.xscale('log')\n",
    "        plt.yscale('log')\n",
    "        plt.xlabel('degree')\n",
    "        plt.ylabel('distribution')\n",
    "        plt.xlim(10000, 1000000000)\n",
    "        plt.ylim(0.00001,100)\n",
    "        plt.grid()\n",
    "                                                   \n",
    "        for enum, size in enumerate(self.size_list):\n",
    "            enum += 1\n",
    "            dat = sorted(self.degree[size].values(), reverse=False)\n",
    "\n",
    "            x_bin, y_bin = self.log_binning(dat, 0, 30)\n",
    "            sum_y = sum(y_bin)\n",
    "            data = dict()\n",
    "            for x, y in zip(x_bin, y_bin):\n",
    "                data[x] = y\n",
    "\n",
    "            data0 = dict()\n",
    "\n",
    "            for item in dat:\n",
    "                if item in data0.keys():\n",
    "                    data0[item] += 1\n",
    "                else:\n",
    "                    data0[item] = 1\n",
    "\n",
    "            data_buf = sorted(data0.items(), key=lambda x:x[0], reverse=False)   \n",
    "            x0 = np.array(list(map(lambda x:x[0], data_buf)))\n",
    "            y0 = np.array(list(map(lambda x:x[1], data_buf)))\n",
    "            sum_y0 = sum(y0)\n",
    "            y0 = y0 / sum_y0\n",
    "\n",
    "            cum = dict()\n",
    "\n",
    "            for key, val in zip(x_bin, y_bin):\n",
    "                buf = x_bin[x_bin >= key]\n",
    "                for item in buf:\n",
    "                    if key in cum.keys():\n",
    "                        cum[key] += data[item]\n",
    "                    else:\n",
    "                        cum[key] = data[item]\n",
    "\n",
    "            x_2 = np.array(list(cum.keys()))\n",
    "            y_2 = np.array(list(cum.values()))\n",
    "            y_2 = y_2 / sum(y_2)\n",
    "\n",
    "\n",
    "            popt, pcov = curve_fit(self.power_law, xdata=x_2[cutoff:], ydata=y_2[cutoff:], method='dogbox')\n",
    "    \n",
    "            #plt.scatter(x_bin[9:] * size * 2, y_bin[9:], s=55.0, marker='o', color=(1.0 / enum,0.0,1.0 / enum), alpha=1.0, edgecolors=(0.0,0.0,0.0), label=\"BA Network, size=\" + str(size), zorder=2)\n",
    "            plt.scatter(x_2[cutoff:] * size * 2, y_2[cutoff:] * 10, s=55.0, marker='o', color=(0.0,1.0 / enum,1.0 / enum), alpha=1.0, edgecolors=(0.0,0.0,0.0), label=\"Size=\" + str(size), zorder=2)\n",
    "            #plt.scatter(x0[9:] * size * 2, y0[9:], s=55.0, marker='o', color=(1.0 / enum,1.0 / enum,0.0), alpha=1.0, edgecolors=(0.0,0.0,0.0), label=\"Raw BA Network , size=\" + str(size), zorder=2)\n",
    "            if size==max(self.size_list):\n",
    "                plt.scatter(x_2 * size * 2, self.power_law(x_2, *popt) * 100, s=55.0, marker='o', color=(1.0,1.0,1.0), alpha=1.0, edgecolors=(0.0,0.0,0.0), label=\"gamma=\"+str(-popt[0]), zorder=2)\n",
    "                plt.plot(x_2 * size * 2, self.power_law(x_2, *popt) * 100, c=(1.0,0.0,0.0), zorder=1)\n",
    "        \n",
    "        plt.legend()\n",
    "        plt.show()\n",
    "        fig.savefig(\"./static.png\")\n",
    "    \n",
    "    def bfs2(self, start):\n",
    "        # keep track of all visited nodes\n",
    "        explored = []\n",
    "        # keep track of nodes to be checked\n",
    "        queue = [start]\n",
    "\n",
    "        # keep looping until there are nodes still to be checked\n",
    "        while queue:\n",
    "            # pop shallowest node (first node) from queue\n",
    "            node = queue.pop(0)\n",
    "            if node not in explored:\n",
    "                # add node to list of checked nodes\n",
    "                explored.append(node)\n",
    "                neighbours = self.adjacent[node]\n",
    "\n",
    "                # add neighbours of node to queue\n",
    "                for neighbour in neighbours:\n",
    "                    queue.append(neighbour)\n",
    "        return explored\n",
    "    \n",
    "    def bfs(self, root):\n",
    "        visited = []\n",
    "        queue = deque([root])\n",
    "\n",
    "        while queue:\n",
    "            n = queue.popleft()\n",
    "            if n not in visited:\n",
    "                visited.append(n)\n",
    "                queue += set(self.adjacent[n]) - set(visited)\n",
    "        return visited\n",
    "    \n",
    "    def bfs3(self, root):\n",
    "        visited = []\n",
    "        buf = self.adjacent[root]\n",
    "        \n",
    "        while buf:\n",
    "            n = buf.pop(0)\n",
    "            \n",
    "            if n not in visited:\n",
    "                visited.append(n)\n",
    "                buf += list(set(self.adjacent[n]) - set(visited))\n",
    "                \n",
    "        return visited\n",
    "    \n",
    "    def burning(self):\n",
    "        max_length = 0\n",
    "        for node in tqdm(range(self.size)):\n",
    "            buf = self.bfs3(node)\n",
    "            if len(buf) > max_length:\n",
    "                max_length = len(buf)\n",
    "                self.largest_cluster = buf     "
   ]
  },
  {
   "cell_type": "code",
   "execution_count": 31,
   "metadata": {},
   "outputs": [],
   "source": [
    "static = STATIC(mean_degree, gamma, size_list)"
   ]
  },
  {
   "cell_type": "code",
   "execution_count": 32,
   "metadata": {},
   "outputs": [
    {
     "name": "stderr",
     "output_type": "stream",
     "text": [
      " 36%|████████████████████▎                                   | 17618/48489 [00:00<00:00, 174459.82it/s]"
     ]
    },
    {
     "name": "stdout",
     "output_type": "stream",
     "text": [
      "(100000, 2) 50000\n",
      "(50000, 2) 50000\n",
      "(48489, 2)\n"
     ]
    },
    {
     "name": "stderr",
     "output_type": "stream",
     "text": [
      "100%|████████████████████████████████████████████████████████| 48489/48489 [00:00<00:00, 177636.02it/s]\n"
     ]
    },
    {
     "name": "stdout",
     "output_type": "stream",
     "text": [
      "(500000, 2) 250000\n",
      "(250000, 2) 250000\n"
     ]
    },
    {
     "name": "stderr",
     "output_type": "stream",
     "text": [
      "  6%|███▍                                                   | 15467/248448 [00:00<00:01, 154644.71it/s]"
     ]
    },
    {
     "name": "stdout",
     "output_type": "stream",
     "text": [
      "(248448, 2)\n"
     ]
    },
    {
     "name": "stderr",
     "output_type": "stream",
     "text": [
      "100%|██████████████████████████████████████████████████████| 248448/248448 [00:01<00:00, 178998.53it/s]\n"
     ]
    },
    {
     "name": "stdout",
     "output_type": "stream",
     "text": [
      "(1000000, 2) 500000\n",
      "(500000, 2) 500000\n"
     ]
    },
    {
     "name": "stderr",
     "output_type": "stream",
     "text": [
      "  3%|█▌                                                     | 13984/498475 [00:00<00:03, 138495.89it/s]"
     ]
    },
    {
     "name": "stdout",
     "output_type": "stream",
     "text": [
      "(498475, 2)\n"
     ]
    },
    {
     "name": "stderr",
     "output_type": "stream",
     "text": [
      "100%|██████████████████████████████████████████████████████| 498475/498475 [00:02<00:00, 182260.91it/s]\n"
     ]
    },
    {
     "name": "stdout",
     "output_type": "stream",
     "text": [
      "(5000000, 2) 2500000\n",
      "(2500000, 2) 2500000\n"
     ]
    },
    {
     "name": "stderr",
     "output_type": "stream",
     "text": [
      "  0%|▏                                                     | 11099/2498492 [00:00<00:22, 109892.83it/s]"
     ]
    },
    {
     "name": "stdout",
     "output_type": "stream",
     "text": [
      "(2498492, 2)\n"
     ]
    },
    {
     "name": "stderr",
     "output_type": "stream",
     "text": [
      "100%|████████████████████████████████████████████████████| 2498492/2498492 [00:13<00:00, 182706.19it/s]\n"
     ]
    },
    {
     "name": "stdout",
     "output_type": "stream",
     "text": [
      "(10000000, 2) 5000000\n",
      "(5000000, 2) 5000000\n"
     ]
    },
    {
     "name": "stderr",
     "output_type": "stream",
     "text": [
      "\r",
      "  0%|                                                                      | 0/4998382 [00:00<?, ?it/s]"
     ]
    },
    {
     "name": "stdout",
     "output_type": "stream",
     "text": [
      "(4998382, 2)\n"
     ]
    },
    {
     "name": "stderr",
     "output_type": "stream",
     "text": [
      "100%|████████████████████████████████████████████████████| 4998382/4998382 [00:27<00:00, 181227.09it/s]\n"
     ]
    }
   ],
   "source": [
    "static.fast_generate()"
   ]
  },
  {
   "cell_type": "code",
   "execution_count": 40,
   "metadata": {},
   "outputs": [
    {
     "data": {
      "image/png": "[encoded data removed]",
      "text/plain": [
       "<Figure size 720x576 with 1 Axes>"
      ]
     },
     "metadata": {},
     "output_type": "display_data"
    }
   ],
   "source": [
    "static.loglog_plot(cutoff=17)"
   ]
  },
  {
   "cell_type": "code",
   "execution_count": null,
   "metadata": {},
   "outputs": [],
   "source": []
  }
 ],
 "metadata": {
  "kernelspec": {
   "display_name": "Python 3",
   "language": "python",
   "name": "python3"
  },
  "language_info": {
   "codemirror_mode": {
    "name": "ipython",
    "version": 3
   },
   "file_extension": ".py",
   "mimetype": "text/x-python",
   "name": "python",
   "nbconvert_exporter": "python",
   "pygments_lexer": "ipython3",
   "version": "3.7.7"
  }
 },
 "nbformat": 4,
 "nbformat_minor": 4
}
